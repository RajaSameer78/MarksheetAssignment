{
 "cells": [
  {
   "cell_type": "code",
   "execution_count": null,
   "metadata": {},
   "outputs": [],
   "source": [
    "import csv\n",
    "studentName = input(\"Enter Your Name\")\n",
    "rollNo = input(\"Enter Student Roll Numner\")\n",
    "english=float(input(\"Enter Marks Of English out of 100 : \"))\n",
    "if(english>100):\n",
    "    print(\"Please Enter marks out of 100\")\n",
    "math=float(input(\"Enter Marks Of Math out of 100 : \"))\n",
    "if(math>100):\n",
    "    print(\"Please Enter marks out of 100\")\n",
    "computer=float(input(\"Enter Marks Of Computer out of 100 : \"))\n",
    "if(computer>100):\n",
    "    print(\"Please Enter marks out of 100\")\n",
    "chemistry=float(input(\"Enter Marks Of Chemistry out of 100 : \"))\n",
    "if(chemistry>100):\n",
    "    print(\"Please Enter marks out of 100\")\n",
    "islamiat=float(input(\"Enter Marks Of Islamiat out of 100 : \"))\n",
    "if(islamiat>100):\n",
    "    print(\"Please Enter marks out of 100\")\n",
    "science=float(input(\"Enter Marks Of Science out of 100 : \"))\n",
    "if(science>100):\n",
    "    print(\"Please Enter marks out of 100\")\n",
    "arts=float(input(\"Enter Marks Of Arts out of 100 : \"))\n",
    "if(arts>100):\n",
    "    print(\"Please Enter marks out of 100\")\n",
    "\n",
    "obtain=english+math+computer+chemistry+islamiat+science+arts\n",
    "total=700\n",
    "percen=obtain*(100.0/700)\n",
    "print(\"-----------------MARK SHEET ----------------\")\n",
    "print(\"Your Abtain Marks out of 700 are :\", obtain)\n",
    "if(percen<60):\n",
    "    Grade='F'\n",
    "elif(percen>70 and percen <80):\n",
    "    Grade='B'\n",
    "elif(percen>80 and percen <90):\n",
    "    Grade='A'\n",
    "elif(percen>90 and percen <100):\n",
    "    Grade='A+'\n",
    "print(\"Your Percentage is : \",percen,\"%\")\n",
    "\n",
    "stdata=[studentName,rollNo,english,math,computer,chemistry,islamiat,science,arts,obtain,total,float(percen),Grade]\n",
    "\n",
    "with open(\"MARKSHEET.csv\",\"w\",newline=\"\") as a:\n",
    "    filehandler=csv.writer(a , delimiter=',')\n",
    "    filehandler.writerow([\"Name\",\"Roll number\",\"English\",\"Math\",\"Computer\",\"Chemistry\",\"Islamiat\",\"Science\",\"Arts\",\"Obtain Marks\",\"Total Marks\",\"Percentage\",\"Grade\"])\n",
    "    filehandler.writerow(stdata)"
   ]
  },
  {
   "cell_type": "markdown",
   "metadata": {},
   "source": []
  }
 ],
 "metadata": {
  "kernelspec": {
   "display_name": "Python 3",
   "language": "python",
   "name": "python3"
  },
  "language_info": {
   "codemirror_mode": {
    "name": "ipython",
    "version": 3
   },
   "file_extension": ".py",
   "mimetype": "text/x-python",
   "name": "python",
   "nbconvert_exporter": "python",
   "pygments_lexer": "ipython3",
   "version": "3.6.8"
  }
 },
 "nbformat": 4,
 "nbformat_minor": 2
}
